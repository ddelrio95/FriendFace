{
  "nbformat": 4,
  "nbformat_minor": 0,
  "metadata": {
    "colab": {
      "name": "Untitled0.ipynb",
      "provenance": [],
      "collapsed_sections": [],
      "authorship_tag": "ABX9TyPNsO+YYDo2G1R180R2rAu+",
      "include_colab_link": true
    },
    "kernelspec": {
      "name": "python3",
      "display_name": "Python 3"
    },
    "language_info": {
      "name": "python"
    }
  },
  "cells": [
    {
      "cell_type": "markdown",
      "metadata": {
        "id": "view-in-github",
        "colab_type": "text"
      },
      "source": [
        "<a href=\"https://colab.research.google.com/github/ddelrio95/FriendFace/blob/main/Untitled0.ipynb\" target=\"_parent\"><img src=\"https://colab.research.google.com/assets/colab-badge.svg\" alt=\"Open In Colab\"/></a>"
      ]
    },
    {
      "cell_type": "markdown",
      "metadata": {
        "id": "QO1do8ucYANA"
      },
      "source": [
        "FriendFace"
      ]
    },
    {
      "cell_type": "code",
      "metadata": {
        "colab": {
          "base_uri": "https://localhost:8080/",
          "height": 129
        },
        "id": "OKHYY3vpi3ev",
        "outputId": "16e26a5a-44a8-4501-f3cc-da757265e917"
      },
      "source": [
        "import datetime\n",
        "\n",
        "class User:\n",
        "  \"\"\"A member of FriendFace. For now we are only storing their name and birthday. But soon we will store an unconfortable amount of information.\"\"\"\n",
        "\n",
        "def ___init__(self, full_name, birthday):\n",
        "  self.full_name = full_name\n",
        "  self.birthday = birthday #yyyymmdd\n",
        "\n",
        "  #Extract first and last names\n",
        "  name_piece = full_name.spilt(\" \")\n",
        "  self.first_name = name_piece[0]\n",
        "  self.birthday = birthday[-1]\n",
        "\n",
        "def age(self):\n",
        "    \"\"\"Return the age of the user in years. \"\"\"\n",
        "    today = datetime.date(1995, 5, 11)\n",
        "    dd = int(self.birthday[0:4])\n",
        "    mm = int(self.birthday[4:6])\n",
        "    yyyy = int(self.birthday[6:8])\n",
        "    dob = datetime.date(mm, dd, yyyy) #Date of birth\n",
        "    age_int_days = (today - dob).days\n",
        "    age_int_years = age_int_days / 365\n",
        "    return int(age_int_years)\n",
        "\n",
        "  user = User(\"Dario del Rio\", \"1995511\")\n",
        "  print(user.age())"
      ],
      "execution_count": 118,
      "outputs": [
        {
          "output_type": "error",
          "ename": "IndentationError",
          "evalue": "ignored",
          "traceback": [
            "\u001b[0;36m  File \u001b[0;32m\"<ipython-input-118-e0d9ca93cb17>\"\u001b[0;36m, line \u001b[0;32m26\u001b[0m\n\u001b[0;31m    user = User(\"Dario del Rio\", \"1995511\")\u001b[0m\n\u001b[0m                                           ^\u001b[0m\n\u001b[0;31mIndentationError\u001b[0m\u001b[0;31m:\u001b[0m unindent does not match any outer indentation level\n"
          ]
        }
      ]
    },
    {
      "cell_type": "code",
      "metadata": {
        "id": "cKD1BBu9lNXO"
      },
      "source": [
        ""
      ],
      "execution_count": null,
      "outputs": []
    }
  ]
}